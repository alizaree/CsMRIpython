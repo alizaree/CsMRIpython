{
 "cells": [
  {
   "cell_type": "code",
   "execution_count": 12,
   "metadata": {},
   "outputs": [],
   "source": [
    "## importing modules and loading the data\n",
    "import numpy as np\n",
    "import os\n",
    "import nibabel as nib\n",
    "import matplotlib as mlp\n",
    "import MainFunctions as MF\n",
    "# downloading the data\n",
    "path0=os.getcwd()\n",
    "\n"
   ]
  },
  {
   "cell_type": "code",
   "execution_count": 24,
   "metadata": {},
   "outputs": [
    {
     "name": "stdout",
     "output_type": "stream",
     "text": [
      "True\n"
     ]
    }
   ],
   "source": [
    "# download the data if it doesnt exist. \n",
    "path=path0+'/content/bold5000/sub-CSI3_anat/sub-CSI3_ses-16_T1w.nii.gz'\n",
    "downloaded=os.path.isfile(path)\n",
    "if not downloaded:\n",
    "    !pip install awscli\n",
    "    os.chdir(path0)\n",
    "    os.mkdir('./content')\n",
    "    os.chdir('/content')\n",
    "    os.mkdir('./bold5000')\n",
    "    os.chdir('/content/bold5000')\n",
    "    !aws s3 sync --no-sign-request s3://openneuro.org/ds001499/sub-CSI3/ses-16/anat/ /sub-CSI3_anat/\n",
    "# load the data\n",
    "data,hdr= MF.load_data()"
   ]
  },
  {
   "cell_type": "code",
   "execution_count": 19,
   "metadata": {},
   "outputs": [
    {
     "name": "stdout",
     "output_type": "stream",
     "text": [
      "/Users/alizare/Desktop/DIP/projectcontent/bold5000/sub-CSI3_anat/sub-CSI3_ses-16_T1w.nii.gz\n"
     ]
    }
   ],
   "source": []
  },
  {
   "cell_type": "code",
   "execution_count": null,
   "metadata": {},
   "outputs": [],
   "source": []
  }
 ],
 "metadata": {
  "kernelspec": {
   "display_name": "Python 3",
   "language": "python",
   "name": "python3"
  },
  "language_info": {
   "codemirror_mode": {
    "name": "ipython",
    "version": 3
   },
   "file_extension": ".py",
   "mimetype": "text/x-python",
   "name": "python",
   "nbconvert_exporter": "python",
   "pygments_lexer": "ipython3",
   "version": "3.7.5"
  }
 },
 "nbformat": 4,
 "nbformat_minor": 2
}
